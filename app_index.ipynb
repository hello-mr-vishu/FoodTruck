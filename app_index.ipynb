{
 "cells": [
  {
   "cell_type": "code",
   "execution_count": 2,
   "metadata": {},
   "outputs": [],
   "source": [
    "from flask import Flask , jsonify , render_template , request"
   ]
  },
  {
   "cell_type": "code",
   "execution_count": 7,
   "metadata": {},
   "outputs": [],
   "source": [
    "import mysql.connector"
   ]
  },
  {
   "cell_type": "code",
   "execution_count": 8,
   "metadata": {},
   "outputs": [],
   "source": [
    "app = Flask(__name__)"
   ]
  },
  {
   "cell_type": "code",
   "execution_count": 9,
   "metadata": {},
   "outputs": [],
   "source": [
    "def create_connection():\n",
    "    return mysql.connector.connect(\n",
    "        host='food', \n",
    "        user = 'root',\n",
    "        password = 'root',\n",
    "        database = 'zomato'\n",
    "    )"
   ]
  },
  {
   "cell_type": "code",
   "execution_count": 10,
   "metadata": {},
   "outputs": [],
   "source": [
    "#Home route\n",
    "@app.route('/')\n",
    "def home():\n",
    "    return render_template('home.html')"
   ]
  },
  {
   "cell_type": "code",
   "execution_count": null,
   "metadata": {},
   "outputs": [],
   "source": [
    "# Place an order\n",
    "@app.route('/place_order',methods=['POST'])\n",
    "def place_order():\n",
    "    cursor = None\n",
    "    connection = None\n",
    "    try:\n",
    "        order_data = request.get_json() # Get JSON data sent by the frontend\n",
    "        cart = order_data['cart'] # cart is an array of items\n",
    "        address = order_data['address'] # delivery address\n",
    "\n",
    "\n",
    "        if not cart or not address:\n",
    "            return jsonify({\"error\":\"card is empty or address is missing\"})\n",
    "        \n",
    "        # Insert each item in the cart into the database\n",
    "        connection = create_connection()\n",
    "        cursor = connection.cursor()\n",
    "\n",
    "        for item in cart:\n",
    "            item_name = item['name']\n",
    "            quantity = item['quantity']\n",
    "\n",
    "            cursor.execute(\"SELECT item_id FROM items WHERE item_name = %s\",(item_name))\n",
    "            result = cursor.fetchone()\n",
    "\n",
    "            if not result:\n",
    "                "
   ]
  },
  {
   "cell_type": "code",
   "execution_count": null,
   "metadata": {},
   "outputs": [],
   "source": []
  }
 ],
 "metadata": {
  "kernelspec": {
   "display_name": "myenv",
   "language": "python",
   "name": "python3"
  },
  "language_info": {
   "codemirror_mode": {
    "name": "ipython",
    "version": 3
   },
   "file_extension": ".py",
   "mimetype": "text/x-python",
   "name": "python",
   "nbconvert_exporter": "python",
   "pygments_lexer": "ipython3",
   "version": "3.12.2"
  }
 },
 "nbformat": 4,
 "nbformat_minor": 2
}

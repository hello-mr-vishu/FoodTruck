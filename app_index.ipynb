{
 "cells": [
  {
   "cell_type": "code",
   "execution_count": 9,
   "metadata": {},
   "outputs": [],
   "source": [
    "from flask import Flask , jsonify , render_template , request"
   ]
  },
  {
   "cell_type": "code",
   "execution_count": 10,
   "metadata": {},
   "outputs": [],
   "source": [
    "import mysql.connector"
   ]
  },
  {
   "cell_type": "code",
   "execution_count": 11,
   "metadata": {},
   "outputs": [],
   "source": [
    "app = Flask(__name__)"
   ]
  },
  {
   "cell_type": "code",
   "execution_count": 12,
   "metadata": {},
   "outputs": [],
   "source": [
    "def create_connection():\n",
    "    return mysql.connector.connect(\n",
    "        host='food', \n",
    "        user = 'root',\n",
    "        password = 'root',\n",
    "        database = 'zomato'\n",
    "    )"
   ]
  },
  {
   "cell_type": "code",
   "execution_count": 13,
   "metadata": {},
   "outputs": [],
   "source": [
    "#Home route\n",
    "@app.route('/')\n",
    "def home():\n",
    "    return render_template('home.html')"
   ]
  },
  {
   "cell_type": "code",
   "execution_count": 14,
   "metadata": {},
   "outputs": [],
   "source": [
    "# Place an order (POST)\n",
    "\n",
    "@app.route('/place_order',methods=['POST'])\n",
    "def place_order():\n",
    "    cursor = None\n",
    "    connection = None\n",
    "    try:\n",
    "        order_data = request.get_json() # Get the JSON data sent by the frontend\n",
    "\n",
    "        cart = order_data['cart'] # Array of items\n",
    "        address = order_data['address'] # delivery address\n",
    "\n",
    "        if not cart or not address:\n",
    "            return jsonify({\"error\":\"Cart is missing or address is missing\"})\n",
    "        \n",
    "        # Enter each item in the cart into the database \n",
    "        connection = create_connection()\n",
    "        cursor = connection.cursor()\n",
    "\n",
    "        for item in cart:\n",
    "            item_name = item['name']\n",
    "            quantity = item['quantity']\n",
    "\n",
    "            cursor.execute(\"SELECT item_id FROM items WHERE item_name = %s\",(item_name))\n",
    "            result = cursor.fetchone()\n",
    "\n",
    "            if not result:\n",
    "                return jsonify({\"error\":f\"Item {item_name} not found.\"}),400\n",
    "            \n",
    "            item_id = result[0]  # Get the item_id from the query list\n",
    "            user_id = 0  # Assume\n",
    "\n",
    "            # SQL query to insert the order\n",
    "            sql = \"\"\"\n",
    "                INSERT INTO orders (user_id , item_id , quantity , delivery_address)\n",
    "                VALUES(%s , %s , %s , %s)\n",
    "                \"\"\"\n",
    "            cursor.execute(sql , (user_id, item_id , quantity, address))\n",
    "\n",
    "        connection.commit()\n",
    "        return jsonify({\"message\" : \"Order placed successfully\"}) \n",
    "    except Exception as e:\n",
    "        return jsonify({\"error\":str(e)}), 500\n",
    "\n",
    "    finally:\n",
    "        if cursor:\n",
    "            cursor.close()\n",
    "        if connection:\n",
    "            connection.close()"
   ]
  },
  {
   "cell_type": "code",
   "execution_count": 15,
   "metadata": {},
   "outputs": [],
   "source": [
    "# Get all orders\n",
    "@app.route('/orders', methods=['GET'])\n",
    "def get_orders():\n",
    "    cursor = None\n",
    "    connection = None\n",
    "    try :\n",
    "        connection = create_connection()\n",
    "        cursor = connection.cursor()\n",
    "        cursor.execute(\"SELECT * FROM orders\")\n",
    "        orders = cursor.fetchall()\n",
    "\n",
    "        return jsonify({\"orders\":orders}) , 200\n",
    "    except Exception as e:\n",
    "        return jsonify({\"error\": str(e)}), 500\n",
    "    finally :\n",
    "        if cursor:\n",
    "            cursor.close()\n",
    "        if connection:\n",
    "            connection.close()\n",
    "            \n",
    "                "
   ]
  },
  {
   "cell_type": "code",
   "execution_count": 16,
   "metadata": {},
   "outputs": [
    {
     "name": "stdout",
     "output_type": "stream",
     "text": [
      " * Serving Flask app '__main__'\n",
      " * Debug mode: on\n"
     ]
    },
    {
     "name": "stderr",
     "output_type": "stream",
     "text": [
      "WARNING: This is a development server. Do not use it in a production deployment. Use a production WSGI server instead.\n",
      " * Running on http://127.0.0.1:5000\n",
      "Press CTRL+C to quit\n",
      " * Restarting with stat\n"
     ]
    },
    {
     "ename": "SystemExit",
     "evalue": "1",
     "output_type": "error",
     "traceback": [
      "An exception has occurred, use %tb to see the full traceback.\n",
      "\u001b[1;31mSystemExit\u001b[0m\u001b[1;31m:\u001b[0m 1\n"
     ]
    }
   ],
   "source": [
    "if __name__ == \"__main__\":\n",
    "    app.run(debug=True)"
   ]
  },
  {
   "cell_type": "code",
   "execution_count": null,
   "metadata": {},
   "outputs": [],
   "source": []
  }
 ],
 "metadata": {
  "kernelspec": {
   "display_name": "myenv",
   "language": "python",
   "name": "python3"
  },
  "language_info": {
   "codemirror_mode": {
    "name": "ipython",
    "version": 3
   },
   "file_extension": ".py",
   "mimetype": "text/x-python",
   "name": "python",
   "nbconvert_exporter": "python",
   "pygments_lexer": "ipython3",
   "version": "3.12.2"
  }
 },
 "nbformat": 4,
 "nbformat_minor": 2
}
